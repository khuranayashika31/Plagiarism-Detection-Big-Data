{
 "cells": [
  {
   "cell_type": "markdown",
   "metadata": {},
   "source": [
    "## Yashika Khurana\n",
    "### Plagiarism Detection"
   ]
  },
  {
   "cell_type": "markdown",
   "metadata": {},
   "source": [
    "### setting up the environment"
   ]
  },
  {
   "cell_type": "code",
   "execution_count": 1,
   "metadata": {},
   "outputs": [
    {
     "name": "stderr",
     "output_type": "stream",
     "text": [
      "Setting default log level to \"WARN\".\n",
      "To adjust logging level use sc.setLogLevel(newLevel). For SparkR, use setLogLevel(newLevel).\n"
     ]
    },
    {
     "name": "stdout",
     "output_type": "stream",
     "text": [
      "23/03/30 09:13:20 WARN NativeCodeLoader: Unable to load native-hadoop library for your platform... using builtin-java classes where applicable\n"
     ]
    },
    {
     "data": {
      "text/html": [
       "\n",
       "            <div>\n",
       "                <p><b>SparkSession - in-memory</b></p>\n",
       "                \n",
       "        <div>\n",
       "            <p><b>SparkContext</b></p>\n",
       "\n",
       "            <p><a href=\"http://jupyter-yk2773:4040\">Spark UI</a></p>\n",
       "\n",
       "            <dl>\n",
       "              <dt>Version</dt>\n",
       "                <dd><code>v3.3.1</code></dd>\n",
       "              <dt>Master</dt>\n",
       "                <dd><code>local[*]</code></dd>\n",
       "              <dt>AppName</dt>\n",
       "                <dd><code>pyspark-shell</code></dd>\n",
       "            </dl>\n",
       "        </div>\n",
       "        \n",
       "            </div>\n",
       "        "
      ],
      "text/plain": [
       "<pyspark.sql.session.SparkSession at 0x7f1ab870ab60>"
      ]
     },
     "execution_count": 1,
     "metadata": {},
     "output_type": "execute_result"
    }
   ],
   "source": [
    "import os\n",
    "import pyspark\n",
    "conf = pyspark.SparkConf()\n",
    "conf.set('spark.ui.proxyBase', '/user/' + os.environ['JUPYTERHUB_USER'] + '/proxy/4040')\n",
    "#conf.set('spark.sql.repl.eagerEval.enabled', True) run these two lines next week\n",
    "#conf.set('spark.driver.memory','4g')\n",
    "sc = pyspark.SparkContext(conf=conf) #spark context\n",
    "spark = pyspark.sql.SparkSession(sc) #to start sql session\n",
    "spark"
   ]
  },
  {
   "cell_type": "code",
   "execution_count": 3,
   "metadata": {},
   "outputs": [
    {
     "name": "stdout",
     "output_type": "stream",
     "text": [
      "Defaulting to user installation because normal site-packages is not writeable\n",
      "Collecting nltk\n",
      "  Downloading nltk-3.8.1-py3-none-any.whl (1.5 MB)\n",
      "\u001b[2K     \u001b[90m━━━━━━━━━━━━━━━━━━━━━━━━━━━━━━━━━━━━━━━━\u001b[0m \u001b[32m1.5/1.5 MB\u001b[0m \u001b[31m17.5 MB/s\u001b[0m eta \u001b[36m0:00:00\u001b[0m00:01\u001b[0m0:01\u001b[0m\n",
      "\u001b[?25hCollecting regex>=2021.8.3\n",
      "  Downloading regex-2023.3.23-cp310-cp310-manylinux_2_17_x86_64.manylinux2014_x86_64.whl (769 kB)\n",
      "\u001b[2K     \u001b[90m━━━━━━━━━━━━━━━━━━━━━━━━━━━━━━━━━━━━━━\u001b[0m \u001b[32m769.6/769.6 kB\u001b[0m \u001b[31m55.3 MB/s\u001b[0m eta \u001b[36m0:00:00\u001b[0m\n",
      "\u001b[?25hRequirement already satisfied: joblib in /opt/conda/envs/bigdata/lib/python3.10/site-packages (from nltk) (1.2.0)\n",
      "Requirement already satisfied: click in /opt/conda/envs/bigdata/lib/python3.10/site-packages (from nltk) (8.1.3)\n",
      "Collecting tqdm\n",
      "  Downloading tqdm-4.65.0-py3-none-any.whl (77 kB)\n",
      "\u001b[2K     \u001b[90m━━━━━━━━━━━━━━━━━━━━━━━━━━━━━━━━━━━━━━━━\u001b[0m \u001b[32m77.1/77.1 kB\u001b[0m \u001b[31m10.0 MB/s\u001b[0m eta \u001b[36m0:00:00\u001b[0m\n",
      "\u001b[?25hInstalling collected packages: tqdm, regex, nltk\n",
      "\u001b[33m  WARNING: The script tqdm is installed in '/home/jovyan/.local/bin' which is not on PATH.\n",
      "  Consider adding this directory to PATH or, if you prefer to suppress this warning, use --no-warn-script-location.\u001b[0m\u001b[33m\n",
      "\u001b[0m\u001b[33m  WARNING: The script nltk is installed in '/home/jovyan/.local/bin' which is not on PATH.\n",
      "  Consider adding this directory to PATH or, if you prefer to suppress this warning, use --no-warn-script-location.\u001b[0m\u001b[33m\n",
      "\u001b[0mSuccessfully installed nltk-3.8.1 regex-2023.3.23 tqdm-4.65.0\n"
     ]
    }
   ],
   "source": [
    "!pip install nltk"
   ]
  },
  {
   "cell_type": "markdown",
   "metadata": {},
   "source": [
    "### importing required libraries"
   ]
  },
  {
   "cell_type": "code",
   "execution_count": 2,
   "metadata": {},
   "outputs": [],
   "source": [
    "from datasketch import MinHash, MinHashLSH\n",
    "import pyspark\n",
    "from pyspark.sql.functions import to_date\n",
    "from pyspark.sql.functions import col\n",
    "from pyspark.sql.functions import udf\n",
    "from pyspark.sql.types import ArrayType, StringType, DoubleType, IntegerType\n",
    "import re\n",
    "import nltk"
   ]
  },
  {
   "cell_type": "markdown",
   "metadata": {},
   "source": [
    "### Using stopwords to ignore insignificant words"
   ]
  },
  {
   "cell_type": "code",
   "execution_count": 3,
   "metadata": {},
   "outputs": [
    {
     "name": "stderr",
     "output_type": "stream",
     "text": [
      "[nltk_data] Downloading package stopwords to /home/jovyan/nltk_data...\n",
      "[nltk_data]   Unzipping corpora/stopwords.zip.\n"
     ]
    }
   ],
   "source": [
    "stopwords=nltk.download('stopwords')"
   ]
  },
  {
   "cell_type": "code",
   "execution_count": 5,
   "metadata": {},
   "outputs": [],
   "source": [
    "from nltk.corpus import stopwords"
   ]
  },
  {
   "cell_type": "code",
   "execution_count": 6,
   "metadata": {},
   "outputs": [],
   "source": [
    "stop_words = set(stopwords.words('english'))"
   ]
  },
  {
   "cell_type": "code",
   "execution_count": 8,
   "metadata": {},
   "outputs": [
    {
     "name": "stdout",
     "output_type": "stream",
     "text": [
      "23/03/30 09:15:18 WARN SparkSession: Using an existing Spark session; only runtime SQL configurations will take effect.\n"
     ]
    }
   ],
   "source": [
    "from pyspark.sql import SparkSession\n",
    "spark = SparkSession.builder.appName(\"MyApp\").getOrCreate()"
   ]
  },
  {
   "cell_type": "code",
   "execution_count": 22,
   "metadata": {},
   "outputs": [
    {
     "name": "stderr",
     "output_type": "stream",
     "text": [
      "                                                                                \r"
     ]
    }
   ],
   "source": [
    "df = spark.read.option(\"multiline\", True)\\\n",
    ".option('escape', '\"')\\\n",
    ".option(\"header\", True)\\\n",
    ".option(\"InferSchema\", True)\\\n",
    ".csv(\"shared/midterm/articles1.csv\")\\\n",
    ".select(\"id\", \"title\", \"publication\", \"author\", \"date\", \"content\")\\\n",
    ".withColumn(\"date\", to_date(col(\"date\"), \"YYYY-MM-DD\"))"
   ]
  },
  {
   "cell_type": "markdown",
   "metadata": {},
   "source": [
    "### Filtering out the reference article"
   ]
  },
  {
   "cell_type": "code",
   "execution_count": 23,
   "metadata": {},
   "outputs": [
    {
     "name": "stderr",
     "output_type": "stream",
     "text": [
      "                                                                                \r"
     ]
    }
   ],
   "source": [
    "ref_article = df.filter(df.id == 69716).select('content').head()[0]"
   ]
  },
  {
   "cell_type": "markdown",
   "metadata": {},
   "source": [
    "### Function to preprocess the content"
   ]
  },
  {
   "cell_type": "code",
   "execution_count": 24,
   "metadata": {},
   "outputs": [],
   "source": [
    "def preprocess(text):\n",
    "    # Convert to lowercase\n",
    "    text = text.lower()\n",
    "    # Remove non-alphabetic characters\n",
    "    text = re.sub(r'[^a-z]', ' ', text)\n",
    "    # Remove stopwords\n",
    "    stop_words = set(stopwords.words('english'))\n",
    "    words = text.split()\n",
    "    words = [w for w in words if not w in stop_words]\n",
    "    # Join words back into a string\n",
    "    text = ' '.join(words)\n",
    "    return text"
   ]
  },
  {
   "cell_type": "code",
   "execution_count": 25,
   "metadata": {},
   "outputs": [],
   "source": [
    "preprocess_udf = udf(preprocess)"
   ]
  },
  {
   "cell_type": "markdown",
   "metadata": {},
   "source": [
    "### Calculating the jaccard similarity"
   ]
  },
  {
   "cell_type": "code",
   "execution_count": 26,
   "metadata": {},
   "outputs": [],
   "source": [
    "def compute_jaccard(ref, content):\n",
    "    # Create MinHash objects for the reference article and the current article\n",
    "    m1 = MinHash()\n",
    "    for word in ref.split():\n",
    "        m1.update(word.encode('utf8'))\n",
    "    m2 = MinHash()\n",
    "    for word in content.split():\n",
    "        m2.update(word.encode('utf8'))\n",
    "    # Compute Jaccard similarity\n",
    "    return m1.jaccard(m2)"
   ]
  },
  {
   "cell_type": "code",
   "execution_count": 27,
   "metadata": {},
   "outputs": [],
   "source": [
    "ref_article = preprocess(ref_article)"
   ]
  },
  {
   "cell_type": "code",
   "execution_count": 28,
   "metadata": {},
   "outputs": [],
   "source": [
    "df = df.withColumn('content_processed', preprocess_udf(df['content']))"
   ]
  },
  {
   "cell_type": "markdown",
   "metadata": {},
   "source": [
    "### Removing reference article fom the dataframe"
   ]
  },
  {
   "cell_type": "code",
   "execution_count": 29,
   "metadata": {},
   "outputs": [],
   "source": [
    "df = df.filter(df.id != 69716)"
   ]
  },
  {
   "cell_type": "code",
   "execution_count": 30,
   "metadata": {},
   "outputs": [],
   "source": [
    "df = df.withColumn('ref_article', udf(lambda x: ref_article, StringType())(col('id')))"
   ]
  },
  {
   "cell_type": "code",
   "execution_count": 31,
   "metadata": {},
   "outputs": [
    {
     "name": "stderr",
     "output_type": "stream",
     "text": [
      "                                                                                \r"
     ]
    },
    {
     "data": {
      "text/plain": [
       "[Row(id=17283, title='House Republicans Fret About Winning Their Health Care Suit - The New York Times', publication='New York Times', author='Carl Hulse', date=datetime.date(2016, 12, 31), content='WASHINGTON  —   Congressional Republicans have a new fear when it comes to their    health care lawsuit against the Obama administration: They might win. The incoming Trump administration could choose to no longer defend the executive branch against the suit, which challenges the administration’s authority to spend billions of dollars on health insurance subsidies for   and   Americans, handing House Republicans a big victory on    issues. But a sudden loss of the disputed subsidies could conceivably cause the health care program to implode, leaving millions of people without access to health insurance before Republicans have prepared a replacement. That could lead to chaos in the insurance market and spur a political backlash just as Republicans gain full control of the government. To stave off that outcome, Republicans could find themselves in the awkward position of appropriating huge sums to temporarily prop up the Obama health care law, angering conservative voters who have been demanding an end to the law for years. In another twist, Donald J. Trump’s administration, worried about preserving executive branch prerogatives, could choose to fight its Republican allies in the House on some central questions in the dispute. Eager to avoid an ugly political pileup, Republicans on Capitol Hill and the Trump transition team are gaming out how to handle the lawsuit, which, after the election, has been put in limbo until at least late February by the United States Court of Appeals for the District of Columbia Circuit. They are not yet ready to divulge their strategy. “Given that this pending litigation involves the Obama administration and Congress, it would be inappropriate to comment,” said Phillip J. Blando, a spokesman for the Trump transition effort. “Upon taking office, the Trump administration will evaluate this case and all related aspects of the Affordable Care Act. ” In a potentially   decision in 2015, Judge Rosemary M. Collyer ruled that House Republicans had the standing to sue the executive branch over a spending dispute and that the Obama administration had been distributing the health insurance subsidies, in violation of the Constitution, without approval from Congress. The Justice Department, confident that Judge Collyer’s decision would be reversed, quickly appealed, and the subsidies have remained in place during the appeal. In successfully seeking a temporary halt in the proceedings after Mr. Trump won, House Republicans last month told the court that they “and the  ’s transition team currently are discussing potential options for resolution of this matter, to take effect after the  ’s inauguration on Jan. 20, 2017. ” The suspension of the case, House lawyers said, will “provide the   and his future administration time to consider whether to continue prosecuting or to otherwise resolve this appeal. ” Republican leadership officials in the House acknowledge the possibility of “cascading effects” if the   payments, which have totaled an estimated $13 billion, are suddenly stopped. Insurers that receive the subsidies in exchange for paying    costs such as deductibles and   for eligible consumers could race to drop coverage since they would be losing money. Over all, the loss of the subsidies could destabilize the entire program and cause a lack of confidence that leads other insurers to seek a quick exit as well. Anticipating that the Trump administration might not be inclined to mount a vigorous fight against the House Republicans given the  ’s dim view of the health care law, a team of lawyers this month sought to intervene in the case on behalf of two participants in the health care program. In their request, the lawyers predicted that a deal between House Republicans and the new administration to dismiss or settle the case “will produce devastating consequences for the individuals who receive these reductions, as well as for the nation’s health insurance and health care systems generally. ” No matter what happens, House Republicans say, they want to prevail on two overarching concepts: the congressional power of the purse, and the right of Congress to sue the executive branch if it violates the Constitution regarding that spending power. House Republicans contend that Congress never appropriated the money for the subsidies, as required by the Constitution. In the suit, which was initially championed by John A. Boehner, the House speaker at the time, and later in House committee reports, Republicans asserted that the administration, desperate for the funding, had required the Treasury Department to provide it despite widespread internal skepticism that the spending was proper. The White House said that the spending was a permanent part of the law passed in 2010, and that no annual appropriation was required  —   even though the administration initially sought one. Just as important to House Republicans, Judge Collyer found that Congress had the standing to sue the White House on this issue  —   a ruling that many legal experts said was flawed  —   and they want that precedent to be set to restore congressional leverage over the executive branch. But on spending power and standing, the Trump administration may come under pressure from advocates of presidential authority to fight the House no matter their shared views on health care, since those precedents could have broad repercussions. It is a complicated set of dynamics illustrating how a quick legal victory for the House in the Trump era might come with costs that Republicans never anticipated when they took on the Obama White House.', content_processed='washington congressional republicans new fear comes health care lawsuit obama administration might win incoming trump administration could choose longer defend executive branch suit challenges administration authority spend billions dollars health insurance subsidies americans handing house republicans big victory issues sudden loss disputed subsidies could conceivably cause health care program implode leaving millions people without access health insurance republicans prepared replacement could lead chaos insurance market spur political backlash republicans gain full control government stave outcome republicans could find awkward position appropriating huge sums temporarily prop obama health care law angering conservative voters demanding end law years another twist donald j trump administration worried preserving executive branch prerogatives could choose fight republican allies house central questions dispute eager avoid ugly political pileup republicans capitol hill trump transition team gaming handle lawsuit election put limbo least late february united states court appeals district columbia circuit yet ready divulge strategy given pending litigation involves obama administration congress would inappropriate comment said phillip j blando spokesman trump transition effort upon taking office trump administration evaluate case related aspects affordable care act potentially decision judge rosemary collyer ruled house republicans standing sue executive branch spending dispute obama administration distributing health insurance subsidies violation constitution without approval congress justice department confident judge collyer decision would reversed quickly appealed subsidies remained place appeal successfully seeking temporary halt proceedings mr trump house republicans last month told court transition team currently discussing potential options resolution matter take effect inauguration jan suspension case house lawyers said provide future administration time consider whether continue prosecuting otherwise resolve appeal republican leadership officials house acknowledge possibility cascading effects payments totaled estimated billion suddenly stopped insurers receive subsidies exchange paying costs deductibles eligible consumers could race drop coverage since would losing money loss subsidies could destabilize entire program cause lack confidence leads insurers seek quick exit well anticipating trump administration might inclined mount vigorous fight house republicans given dim view health care law team lawyers month sought intervene case behalf two participants health care program request lawyers predicted deal house republicans new administration dismiss settle case produce devastating consequences individuals receive reductions well nation health insurance health care systems generally matter happens house republicans say want prevail two overarching concepts congressional power purse right congress sue executive branch violates constitution regarding spending power house republicans contend congress never appropriated money subsidies required constitution suit initially championed john boehner house speaker time later house committee reports republicans asserted administration desperate funding required treasury department provide despite widespread internal skepticism spending proper white house said spending permanent part law passed annual appropriation required even though administration initially sought one important house republicans judge collyer found congress standing sue white house issue ruling many legal experts said flawed want precedent set restore congressional leverage executive branch spending power standing trump administration may come pressure advocates presidential authority fight house matter shared views health care since precedents could broad repercussions complicated set dynamics illustrating quick legal victory house trump era might come costs republicans never anticipated took obama white house', ref_article='wednesday california mandatory statewide water restrictions urban use tip umbrella relatively wet winter northern parts state helped brought sierras decision probably premature southern california especially drought still bad ever much sierra nevada southern california still two three entire years rain missing since drought began five years ago reason continue water conservation know making announcement state declared local communities could set limits opposite likely happen back restrictions things like watering lawns add climate change top california still heading toward drought disaster means state crucial snowpack melts much faster past creating false sense security running entirely although year snowpack april six weeks later already late may weeks rate gone entirely blew years worth rain missing socal past years basically el ni streets la ni sheets kind winter entire west coast seattle wound something unheard el ni year typically dries pacific northwest parts southern california drought severity slightly since start rainy season expect typical la ni pattern el ni currently two weather events quick reason weirdness winter jet stream typically delivers relentless coastal storms california make el ni famous much farther north expected one pretty smarter meteorologists digging answer anthony masiello new jersey based meteorologist focuses seasonal predictability provided character el ni might changing planet warms theory since warm air expands volume entire atmosphere growing circulation system tropics expanding toward poles could shifting jet stream northward least el ni years since last strong el ni nearly two decades global warming warming uniform entire planet truly understand might affect el ni one specifically consider happened pacific ocean daniel swain complex thing sort chances though global warming shifting el ni precipitation patterns geographically least little southern california might enough cut tap almost entirely year meteorologist looked detail probably judah cohen last month contains torrent meteorological detail west coast forecasts wrong also published journal nature may topic phone conversation cut chase models clearly failed good year chaos winter chaos caused cohen lose bit confidence using past el ni patterns predict future el ni patterns says even though el ni one strongest record winter classical la ni cohen thinks found big reason winter featured sharply fluctuating strength polar vortex strong phase tends pull pacific jet stream northward combined steady pressure gradually warming tropics might done trick whatever reason weird el ni west coast result southern california remains locked worst drought record going state dry season least fire conditions going get worse drought already widespread ramifications u forest service count million trees statewide died drought million dead trees like matchsticks forest fires daniel berlant spokesman california department forestry fire protection told san francisco chronicle fire danger markedly increased result level rain going bring dead trees back berlant said talking trees dead larger trees going burn lot hotter lot faster talking huge trees mass quantity surrounding homes year rains fall may actually increased fire danger spurring good crop grasses shrubs ladder fuels help fires jump smoldering near ground hopping treetop treetop u forest service chief tom tidwell said california trees continue die due drought least three years year switch la ni know know calling la ni caused dry rainy season next year little awkward considering past year forecast performed horribly trends show warmth recent past continue california continue less snowpack long time come weather tidwell said climate change dealing last year fire season worst record nationwide million acres burned federal state governments upped firefighting budgets year california cal fire awarded communities part assist clearing dead trees around houses wildfire photographer stuart palley whose work slate spent winter firefighting training embed fire crew cleveland national forest near san diego later year crew member made possible increase funding firefighters view anything happen anytime anywhere new normal fire season palley said staffed ready go right palley like many us caught size intensity fires alberta canada already may southern california much different ecosystem northern boreal forest anything much greater risk wildfires becoming urban fires simply sheer number people living near forests severity ongoing drought think might southern california year palley said think lot firefighters around wondering matter going happen going happen wednesday california said goodbye')]"
      ]
     },
     "execution_count": 31,
     "metadata": {},
     "output_type": "execute_result"
    }
   ],
   "source": [
    "df.head(n=1)"
   ]
  },
  {
   "cell_type": "markdown",
   "metadata": {},
   "source": [
    "### Applying udf to the dataframe"
   ]
  },
  {
   "cell_type": "code",
   "execution_count": 35,
   "metadata": {},
   "outputs": [],
   "source": [
    "compute_jaccard_udf = udf(compute_jaccard)"
   ]
  },
  {
   "cell_type": "code",
   "execution_count": 36,
   "metadata": {},
   "outputs": [],
   "source": [
    "df = df.withColumn('jaccard_similarity', compute_jaccard_udf(df['ref_article'], df['content_processed']))"
   ]
  },
  {
   "cell_type": "code",
   "execution_count": 37,
   "metadata": {},
   "outputs": [
    {
     "name": "stderr",
     "output_type": "stream",
     "text": [
      "[Stage 9:>                                                          (0 + 1) / 1]\r"
     ]
    },
    {
     "name": "stdout",
     "output_type": "stream",
     "text": [
      "23/03/30 09:33:15 WARN PythonUDFRunner: Detected deadlock while completing task 0.0 in stage 9 (TID 9): Attempting to kill Python Worker\n"
     ]
    },
    {
     "name": "stderr",
     "output_type": "stream",
     "text": [
      "                                                                                \r"
     ]
    },
    {
     "data": {
      "text/plain": [
       "[Row(id=17283, title='House Republicans Fret About Winning Their Health Care Suit - The New York Times', publication='New York Times', author='Carl Hulse', date=datetime.date(2016, 12, 31), content='WASHINGTON  —   Congressional Republicans have a new fear when it comes to their    health care lawsuit against the Obama administration: They might win. The incoming Trump administration could choose to no longer defend the executive branch against the suit, which challenges the administration’s authority to spend billions of dollars on health insurance subsidies for   and   Americans, handing House Republicans a big victory on    issues. But a sudden loss of the disputed subsidies could conceivably cause the health care program to implode, leaving millions of people without access to health insurance before Republicans have prepared a replacement. That could lead to chaos in the insurance market and spur a political backlash just as Republicans gain full control of the government. To stave off that outcome, Republicans could find themselves in the awkward position of appropriating huge sums to temporarily prop up the Obama health care law, angering conservative voters who have been demanding an end to the law for years. In another twist, Donald J. Trump’s administration, worried about preserving executive branch prerogatives, could choose to fight its Republican allies in the House on some central questions in the dispute. Eager to avoid an ugly political pileup, Republicans on Capitol Hill and the Trump transition team are gaming out how to handle the lawsuit, which, after the election, has been put in limbo until at least late February by the United States Court of Appeals for the District of Columbia Circuit. They are not yet ready to divulge their strategy. “Given that this pending litigation involves the Obama administration and Congress, it would be inappropriate to comment,” said Phillip J. Blando, a spokesman for the Trump transition effort. “Upon taking office, the Trump administration will evaluate this case and all related aspects of the Affordable Care Act. ” In a potentially   decision in 2015, Judge Rosemary M. Collyer ruled that House Republicans had the standing to sue the executive branch over a spending dispute and that the Obama administration had been distributing the health insurance subsidies, in violation of the Constitution, without approval from Congress. The Justice Department, confident that Judge Collyer’s decision would be reversed, quickly appealed, and the subsidies have remained in place during the appeal. In successfully seeking a temporary halt in the proceedings after Mr. Trump won, House Republicans last month told the court that they “and the  ’s transition team currently are discussing potential options for resolution of this matter, to take effect after the  ’s inauguration on Jan. 20, 2017. ” The suspension of the case, House lawyers said, will “provide the   and his future administration time to consider whether to continue prosecuting or to otherwise resolve this appeal. ” Republican leadership officials in the House acknowledge the possibility of “cascading effects” if the   payments, which have totaled an estimated $13 billion, are suddenly stopped. Insurers that receive the subsidies in exchange for paying    costs such as deductibles and   for eligible consumers could race to drop coverage since they would be losing money. Over all, the loss of the subsidies could destabilize the entire program and cause a lack of confidence that leads other insurers to seek a quick exit as well. Anticipating that the Trump administration might not be inclined to mount a vigorous fight against the House Republicans given the  ’s dim view of the health care law, a team of lawyers this month sought to intervene in the case on behalf of two participants in the health care program. In their request, the lawyers predicted that a deal between House Republicans and the new administration to dismiss or settle the case “will produce devastating consequences for the individuals who receive these reductions, as well as for the nation’s health insurance and health care systems generally. ” No matter what happens, House Republicans say, they want to prevail on two overarching concepts: the congressional power of the purse, and the right of Congress to sue the executive branch if it violates the Constitution regarding that spending power. House Republicans contend that Congress never appropriated the money for the subsidies, as required by the Constitution. In the suit, which was initially championed by John A. Boehner, the House speaker at the time, and later in House committee reports, Republicans asserted that the administration, desperate for the funding, had required the Treasury Department to provide it despite widespread internal skepticism that the spending was proper. The White House said that the spending was a permanent part of the law passed in 2010, and that no annual appropriation was required  —   even though the administration initially sought one. Just as important to House Republicans, Judge Collyer found that Congress had the standing to sue the White House on this issue  —   a ruling that many legal experts said was flawed  —   and they want that precedent to be set to restore congressional leverage over the executive branch. But on spending power and standing, the Trump administration may come under pressure from advocates of presidential authority to fight the House no matter their shared views on health care, since those precedents could have broad repercussions. It is a complicated set of dynamics illustrating how a quick legal victory for the House in the Trump era might come with costs that Republicans never anticipated when they took on the Obama White House.', content_processed='washington congressional republicans new fear comes health care lawsuit obama administration might win incoming trump administration could choose longer defend executive branch suit challenges administration authority spend billions dollars health insurance subsidies americans handing house republicans big victory issues sudden loss disputed subsidies could conceivably cause health care program implode leaving millions people without access health insurance republicans prepared replacement could lead chaos insurance market spur political backlash republicans gain full control government stave outcome republicans could find awkward position appropriating huge sums temporarily prop obama health care law angering conservative voters demanding end law years another twist donald j trump administration worried preserving executive branch prerogatives could choose fight republican allies house central questions dispute eager avoid ugly political pileup republicans capitol hill trump transition team gaming handle lawsuit election put limbo least late february united states court appeals district columbia circuit yet ready divulge strategy given pending litigation involves obama administration congress would inappropriate comment said phillip j blando spokesman trump transition effort upon taking office trump administration evaluate case related aspects affordable care act potentially decision judge rosemary collyer ruled house republicans standing sue executive branch spending dispute obama administration distributing health insurance subsidies violation constitution without approval congress justice department confident judge collyer decision would reversed quickly appealed subsidies remained place appeal successfully seeking temporary halt proceedings mr trump house republicans last month told court transition team currently discussing potential options resolution matter take effect inauguration jan suspension case house lawyers said provide future administration time consider whether continue prosecuting otherwise resolve appeal republican leadership officials house acknowledge possibility cascading effects payments totaled estimated billion suddenly stopped insurers receive subsidies exchange paying costs deductibles eligible consumers could race drop coverage since would losing money loss subsidies could destabilize entire program cause lack confidence leads insurers seek quick exit well anticipating trump administration might inclined mount vigorous fight house republicans given dim view health care law team lawyers month sought intervene case behalf two participants health care program request lawyers predicted deal house republicans new administration dismiss settle case produce devastating consequences individuals receive reductions well nation health insurance health care systems generally matter happens house republicans say want prevail two overarching concepts congressional power purse right congress sue executive branch violates constitution regarding spending power house republicans contend congress never appropriated money subsidies required constitution suit initially championed john boehner house speaker time later house committee reports republicans asserted administration desperate funding required treasury department provide despite widespread internal skepticism spending proper white house said spending permanent part law passed annual appropriation required even though administration initially sought one important house republicans judge collyer found congress standing sue white house issue ruling many legal experts said flawed want precedent set restore congressional leverage executive branch spending power standing trump administration may come pressure advocates presidential authority fight house matter shared views health care since precedents could broad repercussions complicated set dynamics illustrating quick legal victory house trump era might come costs republicans never anticipated took obama white house', ref_article='wednesday california mandatory statewide water restrictions urban use tip umbrella relatively wet winter northern parts state helped brought sierras decision probably premature southern california especially drought still bad ever much sierra nevada southern california still two three entire years rain missing since drought began five years ago reason continue water conservation know making announcement state declared local communities could set limits opposite likely happen back restrictions things like watering lawns add climate change top california still heading toward drought disaster means state crucial snowpack melts much faster past creating false sense security running entirely although year snowpack april six weeks later already late may weeks rate gone entirely blew years worth rain missing socal past years basically el ni streets la ni sheets kind winter entire west coast seattle wound something unheard el ni year typically dries pacific northwest parts southern california drought severity slightly since start rainy season expect typical la ni pattern el ni currently two weather events quick reason weirdness winter jet stream typically delivers relentless coastal storms california make el ni famous much farther north expected one pretty smarter meteorologists digging answer anthony masiello new jersey based meteorologist focuses seasonal predictability provided character el ni might changing planet warms theory since warm air expands volume entire atmosphere growing circulation system tropics expanding toward poles could shifting jet stream northward least el ni years since last strong el ni nearly two decades global warming warming uniform entire planet truly understand might affect el ni one specifically consider happened pacific ocean daniel swain complex thing sort chances though global warming shifting el ni precipitation patterns geographically least little southern california might enough cut tap almost entirely year meteorologist looked detail probably judah cohen last month contains torrent meteorological detail west coast forecasts wrong also published journal nature may topic phone conversation cut chase models clearly failed good year chaos winter chaos caused cohen lose bit confidence using past el ni patterns predict future el ni patterns says even though el ni one strongest record winter classical la ni cohen thinks found big reason winter featured sharply fluctuating strength polar vortex strong phase tends pull pacific jet stream northward combined steady pressure gradually warming tropics might done trick whatever reason weird el ni west coast result southern california remains locked worst drought record going state dry season least fire conditions going get worse drought already widespread ramifications u forest service count million trees statewide died drought million dead trees like matchsticks forest fires daniel berlant spokesman california department forestry fire protection told san francisco chronicle fire danger markedly increased result level rain going bring dead trees back berlant said talking trees dead larger trees going burn lot hotter lot faster talking huge trees mass quantity surrounding homes year rains fall may actually increased fire danger spurring good crop grasses shrubs ladder fuels help fires jump smoldering near ground hopping treetop treetop u forest service chief tom tidwell said california trees continue die due drought least three years year switch la ni know know calling la ni caused dry rainy season next year little awkward considering past year forecast performed horribly trends show warmth recent past continue california continue less snowpack long time come weather tidwell said climate change dealing last year fire season worst record nationwide million acres burned federal state governments upped firefighting budgets year california cal fire awarded communities part assist clearing dead trees around houses wildfire photographer stuart palley whose work slate spent winter firefighting training embed fire crew cleveland national forest near san diego later year crew member made possible increase funding firefighters view anything happen anytime anywhere new normal fire season palley said staffed ready go right palley like many us caught size intensity fires alberta canada already may southern california much different ecosystem northern boreal forest anything much greater risk wildfires becoming urban fires simply sheer number people living near forests severity ongoing drought think might southern california year palley said think lot firefighters around wondering matter going happen going happen wednesday california said goodbye', jaccard_similarity='0.0625')]"
      ]
     },
     "execution_count": 37,
     "metadata": {},
     "output_type": "execute_result"
    }
   ],
   "source": [
    "df.head(n=1)"
   ]
  },
  {
   "cell_type": "markdown",
   "metadata": {},
   "source": [
    "### sorting for top 10 similar articles"
   ]
  },
  {
   "cell_type": "code",
   "execution_count": 38,
   "metadata": {},
   "outputs": [],
   "source": [
    "df = df.orderBy('jaccard_similarity', ascending=False)\n"
   ]
  },
  {
   "cell_type": "code",
   "execution_count": 40,
   "metadata": {},
   "outputs": [],
   "source": [
    "top_10_articles = df.select('id', 'title','jaccard_similarity').limit(10)"
   ]
  },
  {
   "cell_type": "markdown",
   "metadata": {},
   "source": [
    "### results"
   ]
  },
  {
   "cell_type": "code",
   "execution_count": 42,
   "metadata": {},
   "outputs": [
    {
     "name": "stderr",
     "output_type": "stream",
     "text": [
      "Exception in thread \"serve-DataFrame\" java.net.SocketTimeoutException: Accept timed out\n",
      "\tat java.base/java.net.PlainSocketImpl.socketAccept(Native Method)\n",
      "\tat java.base/java.net.AbstractPlainSocketImpl.accept(AbstractPlainSocketImpl.java:458)\n",
      "\tat java.base/java.net.ServerSocket.implAccept(ServerSocket.java:551)\n",
      "\tat java.base/java.net.ServerSocket.accept(ServerSocket.java:519)\n",
      "\tat org.apache.spark.security.SocketAuthServer$$anon$1.run(SocketAuthServer.scala:64)\n",
      "[Stage 11:>                                                         (0 + 1) / 1]\r"
     ]
    },
    {
     "name": "stdout",
     "output_type": "stream",
     "text": [
      "Article ID: 72796, Title: Move over, Vine — people are raking in thousands of dollars a week on a new video app, Jaccard Similarity: 0.1875\n",
      "Article ID: 52787, Title: CNN 10 - March 27, 2017, Jaccard Similarity: 0.1640625\n",
      "Article ID: 20153, Title: The World Is Full of Dogs Without Collars - The New York Times, Jaccard Similarity: 0.15625\n",
      "Article ID: 22807, Title: Abortion Is Found to Have Little Effect on Women’s Mental Health - The New York Times, Jaccard Similarity: 0.15625\n",
      "Article ID: 63815, Title: Majlinda Kelmendi fights for Kosovo recognition, Jaccard Similarity: 0.15625\n",
      "Article ID: 17740, Title: Vivian Howard, a TV Chef, Offers Hope for Her Rural Hometown - The New York Times, Jaccard Similarity: 0.1484375\n",
      "Article ID: 32543, Title: Trump’s Military Rebuild in Limbo in First Hundred Days, Jaccard Similarity: 0.1484375\n",
      "Article ID: 19176, Title: When Is a Drought Over? A Wet California Wants to Know - The New York Times, Jaccard Similarity: 0.1484375\n",
      "Article ID: 58415, Title: Donald Trump to Howard Stern: It’s okay to call my daughter a ’piece of ass’, Jaccard Similarity: 0.1484375\n",
      "Article ID: 60883, Title: Dzhokhar Tsarnaev trial: A marathon of jury picking, Jaccard Similarity: 0.1484375\n"
     ]
    },
    {
     "name": "stderr",
     "output_type": "stream",
     "text": [
      "                                                                                \r"
     ]
    }
   ],
   "source": [
    "for article in top_10_articles.collect():\n",
    "    print(f\"Article ID: {article['id']}, Title: {article['title']}, Jaccard Similarity: {article['jaccard_similarity']}\")"
   ]
  },
  {
   "cell_type": "code",
   "execution_count": null,
   "metadata": {},
   "outputs": [],
   "source": []
  }
 ],
 "metadata": {
  "kernelspec": {
   "display_name": "Python 3 (ipykernel)",
   "language": "python",
   "name": "python3"
  },
  "language_info": {
   "codemirror_mode": {
    "name": "ipython",
    "version": 3
   },
   "file_extension": ".py",
   "mimetype": "text/x-python",
   "name": "python",
   "nbconvert_exporter": "python",
   "pygments_lexer": "ipython3",
   "version": "3.8.16"
  }
 },
 "nbformat": 4,
 "nbformat_minor": 4
}
